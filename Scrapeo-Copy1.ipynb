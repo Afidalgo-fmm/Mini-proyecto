{
 "cells": [
  {
   "cell_type": "code",
   "execution_count": 1,
   "id": "3e2c3060",
   "metadata": {},
   "outputs": [],
   "source": [
    "from selenium import webdriver\n",
    "from selenium.webdriver.chrome.options import Options\n",
    "import time\n",
    "import pandas as pd\n",
    "from selenium.webdriver.support.ui import Select\n",
    "from webdriver_manager.chrome import ChromeDriverManager"
   ]
  },
  {
   "cell_type": "code",
   "execution_count": 2,
   "id": "69d543a4",
   "metadata": {},
   "outputs": [
    {
     "name": "stdout",
     "output_type": "stream",
     "text": [
      "['https://www.nike.com/es/w/hombre-zapatillas-nik1zy7ok', 'https://www.nike.com/es/w/hombre-zapatillas-nik1zy7ok', 'https://www.nike.com/es/w/hombre-zapatillas-nik1zy7ok', 'https://www.nike.com/es/w/hombre-zapatillas-nik1zy7ok', 'https://www.nike.com/es/w/hombre-zapatillas-nik1zy7ok']\n"
     ]
    }
   ],
   "source": [
    "lista_url = []\n",
    "for i in range(1,6):\n",
    "    lista_url.append(f\"https://www.nike.com/es/w/hombre-zapatillas-nik1zy7ok\")\n",
    "print(lista_url)"
   ]
  },
  {
   "cell_type": "code",
   "execution_count": 3,
   "id": "fd51ce55",
   "metadata": {},
   "outputs": [],
   "source": [
    "opciones=Options()\n",
    "opciones.add_experimental_option('excludeSwitches', ['enable-automation'])\n",
    "opciones.add_experimental_option('useAutomationExtension', False)\n",
    "opciones.headless=False    \n",
    "opciones.add_argument('--start-maximized')        \n",
    "opciones.add_argument('user-data-dir=selenium')   \n",
    "opciones.add_argument('--incognito')              "
   ]
  },
  {
   "cell_type": "code",
   "execution_count": 4,
   "id": "ed9e83b3",
   "metadata": {
    "scrolled": true
   },
   "outputs": [
    {
     "name": "stderr",
     "output_type": "stream",
     "text": [
      "\n",
      "\n",
      "====== WebDriver manager ======\n",
      "Current google-chrome version is 96.0.4664\n",
      "Get LATEST chromedriver version for 96.0.4664 google-chrome\n",
      "Driver [/Users/alvaro/.wdm/drivers/chromedriver/mac64/96.0.4664.45/chromedriver] found in cache\n",
      "<ipython-input-4-4a2d50d8fec8>:1: DeprecationWarning: executable_path has been deprecated, please pass in a Service object\n",
      "  driver = webdriver.Chrome(ChromeDriverManager().install(), options = opciones)\n"
     ]
    },
    {
     "name": "stdout",
     "output_type": "stream",
     "text": [
      "1\n"
     ]
    },
    {
     "name": "stderr",
     "output_type": "stream",
     "text": [
      "<ipython-input-4-4a2d50d8fec8>:9: DeprecationWarning: find_element_by_* commands are deprecated. Please use find_element() instead\n",
      "  driver.find_element_by_css_selector(\"#hf_cookie_text_cookieAccept\").click()\n"
     ]
    },
    {
     "name": "stdout",
     "output_type": "stream",
     "text": [
      "no sale 1\n",
      "2\n"
     ]
    },
    {
     "name": "stderr",
     "output_type": "stream",
     "text": [
      "<ipython-input-4-4a2d50d8fec8>:12: DeprecationWarning: find_element_by_* commands are deprecated. Please use find_element() instead\n",
      "  precios.append(driver.find_element_by_css_selector(f'#Wall > div > div.results__body > div.product-grid.css-195fkdt > main > section > div > div:nth-child({i}) > div > figure > div > div.product-card__animation_wrapper > div > div > div > div').text)\n"
     ]
    },
    {
     "name": "stdout",
     "output_type": "stream",
     "text": [
      "3\n",
      "4\n",
      "5\n"
     ]
    },
    {
     "ename": "NoSuchElementException",
     "evalue": "Message: no such element: Unable to locate element: {\"method\":\"css selector\",\"selector\":\"#Wall > div > div.results__body > div.product-grid.css-195fkdt > main > section > div > div:nth-child(5) > div > figure > div > div.product-card__animation_wrapper > div > div > div > div\"}\n  (Session info: chrome=96.0.4664.55)\nStacktrace:\n0   chromedriver                        0x000000010331a269 __gxx_personality_v0 + 582729\n1   chromedriver                        0x00000001032a5c33 __gxx_personality_v0 + 106003\n2   chromedriver                        0x0000000102e62e28 chromedriver + 171560\n3   chromedriver                        0x0000000102e983d2 chromedriver + 390098\n4   chromedriver                        0x0000000102e98591 chromedriver + 390545\n5   chromedriver                        0x0000000102eca6b4 chromedriver + 595636\n6   chromedriver                        0x0000000102eb59fd chromedriver + 510461\n7   chromedriver                        0x0000000102ec8462 chromedriver + 586850\n8   chromedriver                        0x0000000102eb5c23 chromedriver + 511011\n9   chromedriver                        0x0000000102e8b75e chromedriver + 337758\n10  chromedriver                        0x0000000102e8ca95 chromedriver + 342677\n11  chromedriver                        0x00000001032d68ab __gxx_personality_v0 + 305803\n12  chromedriver                        0x00000001032ed863 __gxx_personality_v0 + 399939\n13  chromedriver                        0x00000001032f2c7f __gxx_personality_v0 + 421471\n14  chromedriver                        0x00000001032eebba __gxx_personality_v0 + 404890\n15  chromedriver                        0x00000001032cae51 __gxx_personality_v0 + 258097\n16  chromedriver                        0x000000010330a158 __gxx_personality_v0 + 516920\n17  chromedriver                        0x000000010330a2e1 __gxx_personality_v0 + 517313\n18  chromedriver                        0x00000001033216f8 __gxx_personality_v0 + 612568\n19  libsystem_pthread.dylib             0x00007fff2045a8fc _pthread_start + 224\n20  libsystem_pthread.dylib             0x00007fff20456443 thread_start + 15\n",
     "output_type": "error",
     "traceback": [
      "\u001b[0;31m---------------------------------------------------------------------------\u001b[0m",
      "\u001b[0;31mElementNotInteractableException\u001b[0m           Traceback (most recent call last)",
      "\u001b[0;32m<ipython-input-4-4a2d50d8fec8>\u001b[0m in \u001b[0;36m<module>\u001b[0;34m\u001b[0m\n\u001b[1;32m      8\u001b[0m     \u001b[0;32mtry\u001b[0m\u001b[0;34m:\u001b[0m\u001b[0;34m\u001b[0m\u001b[0;34m\u001b[0m\u001b[0m\n\u001b[0;32m----> 9\u001b[0;31m         \u001b[0mdriver\u001b[0m\u001b[0;34m.\u001b[0m\u001b[0mfind_element_by_css_selector\u001b[0m\u001b[0;34m(\u001b[0m\u001b[0;34m\"#hf_cookie_text_cookieAccept\"\u001b[0m\u001b[0;34m)\u001b[0m\u001b[0;34m.\u001b[0m\u001b[0mclick\u001b[0m\u001b[0;34m(\u001b[0m\u001b[0;34m)\u001b[0m\u001b[0;34m\u001b[0m\u001b[0;34m\u001b[0m\u001b[0m\n\u001b[0m\u001b[1;32m     10\u001b[0m         \u001b[0mdriver\u001b[0m\u001b[0;34m.\u001b[0m\u001b[0mimplicitly_wait\u001b[0m\u001b[0;34m(\u001b[0m\u001b[0;36m2\u001b[0m\u001b[0;34m)\u001b[0m\u001b[0;34m\u001b[0m\u001b[0;34m\u001b[0m\u001b[0m\n",
      "\u001b[0;32m~/opt/anaconda3/lib/python3.8/site-packages/selenium/webdriver/remote/webelement.py\u001b[0m in \u001b[0;36mclick\u001b[0;34m(self)\u001b[0m\n\u001b[1;32m     79\u001b[0m         \u001b[0;34m\"\"\"Clicks the element.\"\"\"\u001b[0m\u001b[0;34m\u001b[0m\u001b[0;34m\u001b[0m\u001b[0m\n\u001b[0;32m---> 80\u001b[0;31m         \u001b[0mself\u001b[0m\u001b[0;34m.\u001b[0m\u001b[0m_execute\u001b[0m\u001b[0;34m(\u001b[0m\u001b[0mCommand\u001b[0m\u001b[0;34m.\u001b[0m\u001b[0mCLICK_ELEMENT\u001b[0m\u001b[0;34m)\u001b[0m\u001b[0;34m\u001b[0m\u001b[0;34m\u001b[0m\u001b[0m\n\u001b[0m\u001b[1;32m     81\u001b[0m \u001b[0;34m\u001b[0m\u001b[0m\n",
      "\u001b[0;32m~/opt/anaconda3/lib/python3.8/site-packages/selenium/webdriver/remote/webelement.py\u001b[0m in \u001b[0;36m_execute\u001b[0;34m(self, command, params)\u001b[0m\n\u001b[1;32m    692\u001b[0m         \u001b[0mparams\u001b[0m\u001b[0;34m[\u001b[0m\u001b[0;34m'id'\u001b[0m\u001b[0;34m]\u001b[0m \u001b[0;34m=\u001b[0m \u001b[0mself\u001b[0m\u001b[0;34m.\u001b[0m\u001b[0m_id\u001b[0m\u001b[0;34m\u001b[0m\u001b[0;34m\u001b[0m\u001b[0m\n\u001b[0;32m--> 693\u001b[0;31m         \u001b[0;32mreturn\u001b[0m \u001b[0mself\u001b[0m\u001b[0;34m.\u001b[0m\u001b[0m_parent\u001b[0m\u001b[0;34m.\u001b[0m\u001b[0mexecute\u001b[0m\u001b[0;34m(\u001b[0m\u001b[0mcommand\u001b[0m\u001b[0;34m,\u001b[0m \u001b[0mparams\u001b[0m\u001b[0;34m)\u001b[0m\u001b[0;34m\u001b[0m\u001b[0;34m\u001b[0m\u001b[0m\n\u001b[0m\u001b[1;32m    694\u001b[0m \u001b[0;34m\u001b[0m\u001b[0m\n",
      "\u001b[0;32m~/opt/anaconda3/lib/python3.8/site-packages/selenium/webdriver/remote/webdriver.py\u001b[0m in \u001b[0;36mexecute\u001b[0;34m(self, driver_command, params)\u001b[0m\n\u001b[1;32m    417\u001b[0m         \u001b[0;32mif\u001b[0m \u001b[0mresponse\u001b[0m\u001b[0;34m:\u001b[0m\u001b[0;34m\u001b[0m\u001b[0;34m\u001b[0m\u001b[0m\n\u001b[0;32m--> 418\u001b[0;31m             \u001b[0mself\u001b[0m\u001b[0;34m.\u001b[0m\u001b[0merror_handler\u001b[0m\u001b[0;34m.\u001b[0m\u001b[0mcheck_response\u001b[0m\u001b[0;34m(\u001b[0m\u001b[0mresponse\u001b[0m\u001b[0;34m)\u001b[0m\u001b[0;34m\u001b[0m\u001b[0;34m\u001b[0m\u001b[0m\n\u001b[0m\u001b[1;32m    419\u001b[0m             response['value'] = self._unwrap_value(\n",
      "\u001b[0;32m~/opt/anaconda3/lib/python3.8/site-packages/selenium/webdriver/remote/errorhandler.py\u001b[0m in \u001b[0;36mcheck_response\u001b[0;34m(self, response)\u001b[0m\n\u001b[1;32m    242\u001b[0m             \u001b[0;32mraise\u001b[0m \u001b[0mexception_class\u001b[0m\u001b[0;34m(\u001b[0m\u001b[0mmessage\u001b[0m\u001b[0;34m,\u001b[0m \u001b[0mscreen\u001b[0m\u001b[0;34m,\u001b[0m \u001b[0mstacktrace\u001b[0m\u001b[0;34m,\u001b[0m \u001b[0malert_text\u001b[0m\u001b[0;34m)\u001b[0m  \u001b[0;31m# type: ignore[call-arg]  # mypy is not smart enough here\u001b[0m\u001b[0;34m\u001b[0m\u001b[0;34m\u001b[0m\u001b[0m\n\u001b[0;32m--> 243\u001b[0;31m         \u001b[0;32mraise\u001b[0m \u001b[0mexception_class\u001b[0m\u001b[0;34m(\u001b[0m\u001b[0mmessage\u001b[0m\u001b[0;34m,\u001b[0m \u001b[0mscreen\u001b[0m\u001b[0;34m,\u001b[0m \u001b[0mstacktrace\u001b[0m\u001b[0;34m)\u001b[0m\u001b[0;34m\u001b[0m\u001b[0;34m\u001b[0m\u001b[0m\n\u001b[0m\u001b[1;32m    244\u001b[0m \u001b[0;34m\u001b[0m\u001b[0m\n",
      "\u001b[0;31mElementNotInteractableException\u001b[0m: Message: element not interactable\n  (Session info: chrome=96.0.4664.55)\nStacktrace:\n0   chromedriver                        0x000000010331a269 __gxx_personality_v0 + 582729\n1   chromedriver                        0x00000001032a5c33 __gxx_personality_v0 + 106003\n2   chromedriver                        0x0000000102e62cdf chromedriver + 171231\n3   chromedriver                        0x0000000102e99480 chromedriver + 394368\n4   chromedriver                        0x0000000102e8d659 chromedriver + 345689\n5   chromedriver                        0x0000000102eb5962 chromedriver + 510306\n6   chromedriver                        0x0000000102e8cf45 chromedriver + 343877\n7   chromedriver                        0x0000000102eb5c7e chromedriver + 511102\n8   chromedriver                        0x0000000102ec8462 chromedriver + 586850\n9   chromedriver                        0x0000000102eb5c23 chromedriver + 511011\n10  chromedriver                        0x0000000102e8b75e chromedriver + 337758\n11  chromedriver                        0x0000000102e8ca95 chromedriver + 342677\n12  chromedriver                        0x00000001032d68ab __gxx_personality_v0 + 305803\n13  chromedriver                        0x00000001032ed863 __gxx_personality_v0 + 399939\n14  chromedriver                        0x00000001032f2c7f __gxx_personality_v0 + 421471\n15  chromedriver                        0x00000001032eebba __gxx_personality_v0 + 404890\n16  chromedriver                        0x00000001032cae51 __gxx_personality_v0 + 258097\n17  chromedriver                        0x000000010330a158 __gxx_personality_v0 + 516920\n18  chromedriver                        0x000000010330a2e1 __gxx_personality_v0 + 517313\n19  chromedriver                        0x00000001033216f8 __gxx_personality_v0 + 612568\n20  libsystem_pthread.dylib             0x00007fff2045a8fc _pthread_start + 224\n21  libsystem_pthread.dylib             0x00007fff20456443 thread_start + 15\n",
      "\nDuring handling of the above exception, another exception occurred:\n",
      "\u001b[0;31mNoSuchElementException\u001b[0m                    Traceback (most recent call last)",
      "\u001b[0;32m<ipython-input-4-4a2d50d8fec8>\u001b[0m in \u001b[0;36m<module>\u001b[0;34m\u001b[0m\n\u001b[1;32m     10\u001b[0m         \u001b[0mdriver\u001b[0m\u001b[0;34m.\u001b[0m\u001b[0mimplicitly_wait\u001b[0m\u001b[0;34m(\u001b[0m\u001b[0;36m2\u001b[0m\u001b[0;34m)\u001b[0m\u001b[0;34m\u001b[0m\u001b[0;34m\u001b[0m\u001b[0m\n\u001b[1;32m     11\u001b[0m     \u001b[0;32mexcept\u001b[0m\u001b[0;34m:\u001b[0m\u001b[0;34m\u001b[0m\u001b[0;34m\u001b[0m\u001b[0m\n\u001b[0;32m---> 12\u001b[0;31m         \u001b[0mprecios\u001b[0m\u001b[0;34m.\u001b[0m\u001b[0mappend\u001b[0m\u001b[0;34m(\u001b[0m\u001b[0mdriver\u001b[0m\u001b[0;34m.\u001b[0m\u001b[0mfind_element_by_css_selector\u001b[0m\u001b[0;34m(\u001b[0m\u001b[0;34mf'#Wall > div > div.results__body > div.product-grid.css-195fkdt > main > section > div > div:nth-child({i}) > div > figure > div > div.product-card__animation_wrapper > div > div > div > div'\u001b[0m\u001b[0;34m)\u001b[0m\u001b[0;34m.\u001b[0m\u001b[0mtext\u001b[0m\u001b[0;34m)\u001b[0m\u001b[0;34m\u001b[0m\u001b[0;34m\u001b[0m\u001b[0m\n\u001b[0m\u001b[1;32m     13\u001b[0m     \u001b[0;32melse\u001b[0m\u001b[0;34m:\u001b[0m\u001b[0;34m\u001b[0m\u001b[0;34m\u001b[0m\u001b[0m\n\u001b[1;32m     14\u001b[0m         \u001b[0mprint\u001b[0m\u001b[0;34m(\u001b[0m\u001b[0;34mf\"no sale {i}\"\u001b[0m\u001b[0;34m)\u001b[0m\u001b[0;34m\u001b[0m\u001b[0;34m\u001b[0m\u001b[0m\n",
      "\u001b[0;32m~/opt/anaconda3/lib/python3.8/site-packages/selenium/webdriver/remote/webdriver.py\u001b[0m in \u001b[0;36mfind_element_by_css_selector\u001b[0;34m(self, css_selector)\u001b[0m\n\u001b[1;32m    800\u001b[0m             \u001b[0mstacklevel\u001b[0m\u001b[0;34m=\u001b[0m\u001b[0;36m2\u001b[0m\u001b[0;34m,\u001b[0m\u001b[0;34m\u001b[0m\u001b[0;34m\u001b[0m\u001b[0m\n\u001b[1;32m    801\u001b[0m         )\n\u001b[0;32m--> 802\u001b[0;31m         \u001b[0;32mreturn\u001b[0m \u001b[0mself\u001b[0m\u001b[0;34m.\u001b[0m\u001b[0mfind_element\u001b[0m\u001b[0;34m(\u001b[0m\u001b[0mby\u001b[0m\u001b[0;34m=\u001b[0m\u001b[0mBy\u001b[0m\u001b[0;34m.\u001b[0m\u001b[0mCSS_SELECTOR\u001b[0m\u001b[0;34m,\u001b[0m \u001b[0mvalue\u001b[0m\u001b[0;34m=\u001b[0m\u001b[0mcss_selector\u001b[0m\u001b[0;34m)\u001b[0m\u001b[0;34m\u001b[0m\u001b[0;34m\u001b[0m\u001b[0m\n\u001b[0m\u001b[1;32m    803\u001b[0m \u001b[0;34m\u001b[0m\u001b[0m\n\u001b[1;32m    804\u001b[0m     \u001b[0;32mdef\u001b[0m \u001b[0mfind_elements_by_css_selector\u001b[0m\u001b[0;34m(\u001b[0m\u001b[0mself\u001b[0m\u001b[0;34m,\u001b[0m \u001b[0mcss_selector\u001b[0m\u001b[0;34m)\u001b[0m \u001b[0;34m->\u001b[0m \u001b[0mWebElement\u001b[0m\u001b[0;34m:\u001b[0m\u001b[0;34m\u001b[0m\u001b[0;34m\u001b[0m\u001b[0m\n",
      "\u001b[0;32m~/opt/anaconda3/lib/python3.8/site-packages/selenium/webdriver/remote/webdriver.py\u001b[0m in \u001b[0;36mfind_element\u001b[0;34m(self, by, value)\u001b[0m\n\u001b[1;32m   1236\u001b[0m             \u001b[0mvalue\u001b[0m \u001b[0;34m=\u001b[0m \u001b[0;34m'[name=\"%s\"]'\u001b[0m \u001b[0;34m%\u001b[0m \u001b[0mvalue\u001b[0m\u001b[0;34m\u001b[0m\u001b[0;34m\u001b[0m\u001b[0m\n\u001b[1;32m   1237\u001b[0m \u001b[0;34m\u001b[0m\u001b[0m\n\u001b[0;32m-> 1238\u001b[0;31m         return self.execute(Command.FIND_ELEMENT, {\n\u001b[0m\u001b[1;32m   1239\u001b[0m             \u001b[0;34m'using'\u001b[0m\u001b[0;34m:\u001b[0m \u001b[0mby\u001b[0m\u001b[0;34m,\u001b[0m\u001b[0;34m\u001b[0m\u001b[0;34m\u001b[0m\u001b[0m\n\u001b[1;32m   1240\u001b[0m             'value': value})['value']\n",
      "\u001b[0;32m~/opt/anaconda3/lib/python3.8/site-packages/selenium/webdriver/remote/webdriver.py\u001b[0m in \u001b[0;36mexecute\u001b[0;34m(self, driver_command, params)\u001b[0m\n\u001b[1;32m    416\u001b[0m         \u001b[0mresponse\u001b[0m \u001b[0;34m=\u001b[0m \u001b[0mself\u001b[0m\u001b[0;34m.\u001b[0m\u001b[0mcommand_executor\u001b[0m\u001b[0;34m.\u001b[0m\u001b[0mexecute\u001b[0m\u001b[0;34m(\u001b[0m\u001b[0mdriver_command\u001b[0m\u001b[0;34m,\u001b[0m \u001b[0mparams\u001b[0m\u001b[0;34m)\u001b[0m\u001b[0;34m\u001b[0m\u001b[0;34m\u001b[0m\u001b[0m\n\u001b[1;32m    417\u001b[0m         \u001b[0;32mif\u001b[0m \u001b[0mresponse\u001b[0m\u001b[0;34m:\u001b[0m\u001b[0;34m\u001b[0m\u001b[0;34m\u001b[0m\u001b[0m\n\u001b[0;32m--> 418\u001b[0;31m             \u001b[0mself\u001b[0m\u001b[0;34m.\u001b[0m\u001b[0merror_handler\u001b[0m\u001b[0;34m.\u001b[0m\u001b[0mcheck_response\u001b[0m\u001b[0;34m(\u001b[0m\u001b[0mresponse\u001b[0m\u001b[0;34m)\u001b[0m\u001b[0;34m\u001b[0m\u001b[0;34m\u001b[0m\u001b[0m\n\u001b[0m\u001b[1;32m    419\u001b[0m             response['value'] = self._unwrap_value(\n\u001b[1;32m    420\u001b[0m                 response.get('value', None))\n",
      "\u001b[0;32m~/opt/anaconda3/lib/python3.8/site-packages/selenium/webdriver/remote/errorhandler.py\u001b[0m in \u001b[0;36mcheck_response\u001b[0;34m(self, response)\u001b[0m\n\u001b[1;32m    241\u001b[0m                 \u001b[0malert_text\u001b[0m \u001b[0;34m=\u001b[0m \u001b[0mvalue\u001b[0m\u001b[0;34m[\u001b[0m\u001b[0;34m'alert'\u001b[0m\u001b[0;34m]\u001b[0m\u001b[0;34m.\u001b[0m\u001b[0mget\u001b[0m\u001b[0;34m(\u001b[0m\u001b[0;34m'text'\u001b[0m\u001b[0;34m)\u001b[0m\u001b[0;34m\u001b[0m\u001b[0;34m\u001b[0m\u001b[0m\n\u001b[1;32m    242\u001b[0m             \u001b[0;32mraise\u001b[0m \u001b[0mexception_class\u001b[0m\u001b[0;34m(\u001b[0m\u001b[0mmessage\u001b[0m\u001b[0;34m,\u001b[0m \u001b[0mscreen\u001b[0m\u001b[0;34m,\u001b[0m \u001b[0mstacktrace\u001b[0m\u001b[0;34m,\u001b[0m \u001b[0malert_text\u001b[0m\u001b[0;34m)\u001b[0m  \u001b[0;31m# type: ignore[call-arg]  # mypy is not smart enough here\u001b[0m\u001b[0;34m\u001b[0m\u001b[0;34m\u001b[0m\u001b[0m\n\u001b[0;32m--> 243\u001b[0;31m         \u001b[0;32mraise\u001b[0m \u001b[0mexception_class\u001b[0m\u001b[0;34m(\u001b[0m\u001b[0mmessage\u001b[0m\u001b[0;34m,\u001b[0m \u001b[0mscreen\u001b[0m\u001b[0;34m,\u001b[0m \u001b[0mstacktrace\u001b[0m\u001b[0;34m)\u001b[0m\u001b[0;34m\u001b[0m\u001b[0;34m\u001b[0m\u001b[0m\n\u001b[0m\u001b[1;32m    244\u001b[0m \u001b[0;34m\u001b[0m\u001b[0m\n\u001b[1;32m    245\u001b[0m     \u001b[0;32mdef\u001b[0m \u001b[0m_value_or_default\u001b[0m\u001b[0;34m(\u001b[0m\u001b[0mself\u001b[0m\u001b[0;34m,\u001b[0m \u001b[0mobj\u001b[0m\u001b[0;34m:\u001b[0m \u001b[0mMapping\u001b[0m\u001b[0;34m[\u001b[0m\u001b[0m_KT\u001b[0m\u001b[0;34m,\u001b[0m \u001b[0m_VT\u001b[0m\u001b[0;34m]\u001b[0m\u001b[0;34m,\u001b[0m \u001b[0mkey\u001b[0m\u001b[0;34m:\u001b[0m \u001b[0m_KT\u001b[0m\u001b[0;34m,\u001b[0m \u001b[0mdefault\u001b[0m\u001b[0;34m:\u001b[0m \u001b[0m_VT\u001b[0m\u001b[0;34m)\u001b[0m \u001b[0;34m->\u001b[0m \u001b[0m_VT\u001b[0m\u001b[0;34m:\u001b[0m\u001b[0;34m\u001b[0m\u001b[0;34m\u001b[0m\u001b[0m\n",
      "\u001b[0;31mNoSuchElementException\u001b[0m: Message: no such element: Unable to locate element: {\"method\":\"css selector\",\"selector\":\"#Wall > div > div.results__body > div.product-grid.css-195fkdt > main > section > div > div:nth-child(5) > div > figure > div > div.product-card__animation_wrapper > div > div > div > div\"}\n  (Session info: chrome=96.0.4664.55)\nStacktrace:\n0   chromedriver                        0x000000010331a269 __gxx_personality_v0 + 582729\n1   chromedriver                        0x00000001032a5c33 __gxx_personality_v0 + 106003\n2   chromedriver                        0x0000000102e62e28 chromedriver + 171560\n3   chromedriver                        0x0000000102e983d2 chromedriver + 390098\n4   chromedriver                        0x0000000102e98591 chromedriver + 390545\n5   chromedriver                        0x0000000102eca6b4 chromedriver + 595636\n6   chromedriver                        0x0000000102eb59fd chromedriver + 510461\n7   chromedriver                        0x0000000102ec8462 chromedriver + 586850\n8   chromedriver                        0x0000000102eb5c23 chromedriver + 511011\n9   chromedriver                        0x0000000102e8b75e chromedriver + 337758\n10  chromedriver                        0x0000000102e8ca95 chromedriver + 342677\n11  chromedriver                        0x00000001032d68ab __gxx_personality_v0 + 305803\n12  chromedriver                        0x00000001032ed863 __gxx_personality_v0 + 399939\n13  chromedriver                        0x00000001032f2c7f __gxx_personality_v0 + 421471\n14  chromedriver                        0x00000001032eebba __gxx_personality_v0 + 404890\n15  chromedriver                        0x00000001032cae51 __gxx_personality_v0 + 258097\n16  chromedriver                        0x000000010330a158 __gxx_personality_v0 + 516920\n17  chromedriver                        0x000000010330a2e1 __gxx_personality_v0 + 517313\n18  chromedriver                        0x00000001033216f8 __gxx_personality_v0 + 612568\n19  libsystem_pthread.dylib             0x00007fff2045a8fc _pthread_start + 224\n20  libsystem_pthread.dylib             0x00007fff20456443 thread_start + 15\n"
     ]
    }
   ],
   "source": [
    "driver = webdriver.Chrome(ChromeDriverManager().install(), options = opciones)\n",
    "driver.get(\"https://www.nike.com/es/w/hombre-zapatillas-nik1zy7ok\")\n",
    "#driver.implicitly_wait(3)\n",
    "precios = []\n",
    "for i in range(1,10):\n",
    "    print(i)\n",
    "    driver.implicitly_wait(3)\n",
    "    try:\n",
    "        driver.find_element_by_css_selector(\"#hf_cookie_text_cookieAccept\").click()\n",
    "        driver.implicitly_wait(2)\n",
    "    except:\n",
    "        precios.append(driver.find_element_by_css_selector(f'#Wall > div > div.results__body > div.product-grid.css-195fkdt > main > section > div > div:nth-child({i}) > div > figure > div > div.product-card__animation_wrapper > div > div > div > div').text)\n",
    "    else:\n",
    "        print(f\"no sale {i}\")\n",
    "driver.quit()"
   ]
  },
  {
   "cell_type": "code",
   "execution_count": 5,
   "id": "e9c792a1",
   "metadata": {},
   "outputs": [
    {
     "name": "stdout",
     "output_type": "stream",
     "text": [
      "['99,99 €', '129,99 €', '99,99 €']\n"
     ]
    }
   ],
   "source": [
    "print(precios)"
   ]
  },
  {
   "cell_type": "code",
   "execution_count": null,
   "id": "df277596",
   "metadata": {},
   "outputs": [],
   "source": [
    "#https://www.fnac.es/SearchResult/ResultList.aspx?PageIndex=2&Search=monitores&sft=1&sl\n",
    "#Wall > div > div.results__body > div.product-grid.css-195fkdt > main > section > div > div:nth-child(1) > div > figure > div > div.product-card__animation_wrapper > div > div > div > div\n",
    "#Wall > div > div.results__body > div.product-grid.css-195fkdt > main > section > div > div:nth-child(2) > div > figure > div > div.product-card__animation_wrapper > div > div > div > div\n",
    "#Wall > div > div.results__body > div.product-grid.css-195fkdt > main > section > div > div:nth-child(6) > div > figure > div > div.product-card__animation_wrapper > div > div > div > div\n",
    "#Wall > div > div.results__body > div.product-grid.css-195fkdt > main > section > div > div:nth-child({i}) > div > figure > div > div.product-card__animation_wrapper\n"
   ]
  }
 ],
 "metadata": {
  "kernelspec": {
   "display_name": "Python 3",
   "language": "python",
   "name": "python3"
  },
  "language_info": {
   "codemirror_mode": {
    "name": "ipython",
    "version": 3
   },
   "file_extension": ".py",
   "mimetype": "text/x-python",
   "name": "python",
   "nbconvert_exporter": "python",
   "pygments_lexer": "ipython3",
   "version": "3.8.8"
  }
 },
 "nbformat": 4,
 "nbformat_minor": 5
}
