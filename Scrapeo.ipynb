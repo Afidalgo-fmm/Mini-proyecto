{
 "cells": [
  {
   "cell_type": "code",
   "execution_count": 64,
   "id": "3e2c3060",
   "metadata": {},
   "outputs": [],
   "source": [
    "from selenium import webdriver\n",
    "from selenium.webdriver.chrome.options import Options\n",
    "import time\n",
    "import pandas as pd\n",
    "from selenium.webdriver.support.ui import Select\n",
    "from webdriver_manager.chrome import ChromeDriverManager"
   ]
  },
  {
   "cell_type": "code",
   "execution_count": 65,
   "id": "3de54303",
   "metadata": {},
   "outputs": [
    {
     "name": "stdout",
     "output_type": "stream",
     "text": [
      "['https://www.fnac.es/SearchResult/ResultList.aspx?PageIndex=1&Search=monitores&sft=1&sl', 'https://www.fnac.es/SearchResult/ResultList.aspx?PageIndex=2&Search=monitores&sft=1&sl', 'https://www.fnac.es/SearchResult/ResultList.aspx?PageIndex=3&Search=monitores&sft=1&sl', 'https://www.fnac.es/SearchResult/ResultList.aspx?PageIndex=4&Search=monitores&sft=1&sl', 'https://www.fnac.es/SearchResult/ResultList.aspx?PageIndex=5&Search=monitores&sft=1&sl']\n"
     ]
    }
   ],
   "source": [
    "lista_url = []\n",
    "for i in range(1,6):\n",
    "    lista_url.append(f\"https://www.fnac.es/SearchResult/ResultList.aspx?PageIndex={i}&Search=monitores&sft=1&sl\")\n",
    "print(lista_url)"
   ]
  },
  {
   "cell_type": "code",
   "execution_count": 66,
   "id": "fd51ce55",
   "metadata": {},
   "outputs": [],
   "source": [
    "opciones=Options()\n",
    "opciones.add_experimental_option('excludeSwitches', ['enable-automation'])\n",
    "opciones.add_experimental_option('useAutomationExtension', False)\n",
    "opciones.headless=False    \n",
    "opciones.add_argument('--start-maximized')        \n",
    "opciones.add_argument('user-data-dir=selenium')   \n",
    "opciones.add_argument('--incognito')              "
   ]
  },
  {
   "cell_type": "code",
   "execution_count": 67,
   "id": "ed9e83b3",
   "metadata": {
    "scrolled": true
   },
   "outputs": [
    {
     "name": "stderr",
     "output_type": "stream",
     "text": [
      "\n",
      "\n",
      "====== WebDriver manager ======\n",
      "Current google-chrome version is 95.0.4638\n",
      "Get LATEST chromedriver version for 95.0.4638 google-chrome\n",
      "Driver [/Users/alvaro/.wdm/drivers/chromedriver/mac64/95.0.4638.69/chromedriver] found in cache\n",
      "<ipython-input-67-eece80078550>:1: DeprecationWarning: executable_path has been deprecated, please pass in a Service object\n",
      "  driver = webdriver.Chrome(ChromeDriverManager().install(), options = opciones)\n"
     ]
    }
   ],
   "source": [
    "driver = webdriver.Chrome(ChromeDriverManager().install(), options = opciones)\n",
    "#driver.implicitly_wait(3)"
   ]
  },
  {
   "cell_type": "code",
   "execution_count": 68,
   "id": "5069d53e",
   "metadata": {},
   "outputs": [
    {
     "name": "stdout",
     "output_type": "stream",
     "text": [
      "https://www.fnac.es/SearchResult/ResultList.aspx?PageIndex=1&Search=monitores&sft=1&sl\n",
      "1\n"
     ]
    },
    {
     "name": "stderr",
     "output_type": "stream",
     "text": [
      "<ipython-input-68-13ec60fd6cf5>:8: DeprecationWarning: find_element_by_* commands are deprecated. Please use find_element() instead\n",
      "  driver.find_element_by_xpath(\"/html/body/div[10]/div[3]/div/div[1]/div/div[2]/div/button[2]\").click()\n",
      "<ipython-input-68-13ec60fd6cf5>:12: DeprecationWarning: find_element_by_* commands are deprecated. Please use find_element() instead\n",
      "  info = driver.find_element_by_xpath(f'/html/body/div[3]/div/div[6]/div/div[{x}]/article/form/div[3]/div/div/div/div[1]/strong')\n",
      "<ipython-input-68-13ec60fd6cf5>:18: DeprecationWarning: find_element_by_* commands are deprecated. Please use find_element() instead\n",
      "  precios.append(driver.find_element_by_xpath(f'html/body/div[3]/div/div[6]/div/div[{x}]/article/form/div[3]/div/div/div/div/a').text)\n"
     ]
    },
    {
     "name": "stdout",
     "output_type": "stream",
     "text": [
      "2\n"
     ]
    },
    {
     "ename": "NoSuchElementException",
     "evalue": "Message: no such element: Unable to locate element: {\"method\":\"xpath\",\"selector\":\"/html/body/div[10]/div[3]/div/div[1]/div/div[2]/div/button[2]\"}\n  (Session info: chrome=95.0.4638.69)\nStacktrace:\n0   chromedriver                        0x000000010c365519 __gxx_personality_v0 + 577193\n1   chromedriver                        0x000000010c2f1663 __gxx_personality_v0 + 102387\n2   chromedriver                        0x000000010beb8d28 chromedriver + 171304\n3   chromedriver                        0x000000010beedc9c chromedriver + 388252\n4   chromedriver                        0x000000010bf1fb04 chromedriver + 592644\n5   chromedriver                        0x000000010bf0addd chromedriver + 507357\n6   chromedriver                        0x000000010bf1d8ab chromedriver + 583851\n7   chromedriver                        0x000000010bf0b0a3 chromedriver + 508067\n8   chromedriver                        0x000000010bee15ae chromedriver + 337326\n9   chromedriver                        0x000000010bee28d5 chromedriver + 342229\n10  chromedriver                        0x000000010c32175f __gxx_personality_v0 + 299247\n11  chromedriver                        0x000000010c33869a __gxx_personality_v0 + 393258\n12  chromedriver                        0x000000010c33df5b __gxx_personality_v0 + 415979\n13  chromedriver                        0x000000010c339a3a __gxx_personality_v0 + 398282\n14  chromedriver                        0x000000010c31637c __gxx_personality_v0 + 253196\n15  chromedriver                        0x000000010c355458 __gxx_personality_v0 + 511464\n16  chromedriver                        0x000000010c3555e1 __gxx_personality_v0 + 511857\n17  chromedriver                        0x000000010c36c968 __gxx_personality_v0 + 606968\n18  libsystem_pthread.dylib             0x00007fff204c38fc _pthread_start + 224\n19  libsystem_pthread.dylib             0x00007fff204bf443 thread_start + 15\n",
     "output_type": "error",
     "traceback": [
      "\u001b[0;31m---------------------------------------------------------------------------\u001b[0m",
      "\u001b[0;31mNoSuchElementException\u001b[0m                    Traceback (most recent call last)",
      "\u001b[0;32m<ipython-input-68-13ec60fd6cf5>\u001b[0m in \u001b[0;36m<module>\u001b[0;34m\u001b[0m\n\u001b[1;32m      6\u001b[0m         \u001b[0mdriver\u001b[0m\u001b[0;34m.\u001b[0m\u001b[0mget\u001b[0m\u001b[0;34m(\u001b[0m\u001b[0mi\u001b[0m\u001b[0;34m)\u001b[0m\u001b[0;34m\u001b[0m\u001b[0;34m\u001b[0m\u001b[0m\n\u001b[1;32m      7\u001b[0m         \u001b[0mdriver\u001b[0m\u001b[0;34m.\u001b[0m\u001b[0mimplicitly_wait\u001b[0m\u001b[0;34m(\u001b[0m\u001b[0;36m5\u001b[0m\u001b[0;34m)\u001b[0m\u001b[0;34m\u001b[0m\u001b[0;34m\u001b[0m\u001b[0m\n\u001b[0;32m----> 8\u001b[0;31m         \u001b[0mdriver\u001b[0m\u001b[0;34m.\u001b[0m\u001b[0mfind_element_by_xpath\u001b[0m\u001b[0;34m(\u001b[0m\u001b[0;34m\"/html/body/div[10]/div[3]/div/div[1]/div/div[2]/div/button[2]\"\u001b[0m\u001b[0;34m)\u001b[0m\u001b[0;34m.\u001b[0m\u001b[0mclick\u001b[0m\u001b[0;34m(\u001b[0m\u001b[0;34m)\u001b[0m\u001b[0;34m\u001b[0m\u001b[0;34m\u001b[0m\u001b[0m\n\u001b[0m\u001b[1;32m      9\u001b[0m \u001b[0;34m\u001b[0m\u001b[0m\n\u001b[1;32m     10\u001b[0m         \u001b[0;32mtry\u001b[0m\u001b[0;34m:\u001b[0m\u001b[0;34m\u001b[0m\u001b[0;34m\u001b[0m\u001b[0m\n",
      "\u001b[0;32m~/opt/anaconda3/lib/python3.8/site-packages/selenium/webdriver/remote/webdriver.py\u001b[0m in \u001b[0;36mfind_element_by_xpath\u001b[0;34m(self, xpath)\u001b[0m\n\u001b[1;32m    512\u001b[0m             \u001b[0mstacklevel\u001b[0m\u001b[0;34m=\u001b[0m\u001b[0;36m2\u001b[0m\u001b[0;34m,\u001b[0m\u001b[0;34m\u001b[0m\u001b[0;34m\u001b[0m\u001b[0m\n\u001b[1;32m    513\u001b[0m         )\n\u001b[0;32m--> 514\u001b[0;31m         \u001b[0;32mreturn\u001b[0m \u001b[0mself\u001b[0m\u001b[0;34m.\u001b[0m\u001b[0mfind_element\u001b[0m\u001b[0;34m(\u001b[0m\u001b[0mby\u001b[0m\u001b[0;34m=\u001b[0m\u001b[0mBy\u001b[0m\u001b[0;34m.\u001b[0m\u001b[0mXPATH\u001b[0m\u001b[0;34m,\u001b[0m \u001b[0mvalue\u001b[0m\u001b[0;34m=\u001b[0m\u001b[0mxpath\u001b[0m\u001b[0;34m)\u001b[0m\u001b[0;34m\u001b[0m\u001b[0;34m\u001b[0m\u001b[0m\n\u001b[0m\u001b[1;32m    515\u001b[0m \u001b[0;34m\u001b[0m\u001b[0m\n\u001b[1;32m    516\u001b[0m     \u001b[0;32mdef\u001b[0m \u001b[0mfind_elements_by_xpath\u001b[0m\u001b[0;34m(\u001b[0m\u001b[0mself\u001b[0m\u001b[0;34m,\u001b[0m \u001b[0mxpath\u001b[0m\u001b[0;34m)\u001b[0m \u001b[0;34m->\u001b[0m \u001b[0mWebElement\u001b[0m\u001b[0;34m:\u001b[0m\u001b[0;34m\u001b[0m\u001b[0;34m\u001b[0m\u001b[0m\n",
      "\u001b[0;32m~/opt/anaconda3/lib/python3.8/site-packages/selenium/webdriver/remote/webdriver.py\u001b[0m in \u001b[0;36mfind_element\u001b[0;34m(self, by, value)\u001b[0m\n\u001b[1;32m   1236\u001b[0m             \u001b[0mvalue\u001b[0m \u001b[0;34m=\u001b[0m \u001b[0;34m'[name=\"%s\"]'\u001b[0m \u001b[0;34m%\u001b[0m \u001b[0mvalue\u001b[0m\u001b[0;34m\u001b[0m\u001b[0;34m\u001b[0m\u001b[0m\n\u001b[1;32m   1237\u001b[0m \u001b[0;34m\u001b[0m\u001b[0m\n\u001b[0;32m-> 1238\u001b[0;31m         return self.execute(Command.FIND_ELEMENT, {\n\u001b[0m\u001b[1;32m   1239\u001b[0m             \u001b[0;34m'using'\u001b[0m\u001b[0;34m:\u001b[0m \u001b[0mby\u001b[0m\u001b[0;34m,\u001b[0m\u001b[0;34m\u001b[0m\u001b[0;34m\u001b[0m\u001b[0m\n\u001b[1;32m   1240\u001b[0m             'value': value})['value']\n",
      "\u001b[0;32m~/opt/anaconda3/lib/python3.8/site-packages/selenium/webdriver/remote/webdriver.py\u001b[0m in \u001b[0;36mexecute\u001b[0;34m(self, driver_command, params)\u001b[0m\n\u001b[1;32m    416\u001b[0m         \u001b[0mresponse\u001b[0m \u001b[0;34m=\u001b[0m \u001b[0mself\u001b[0m\u001b[0;34m.\u001b[0m\u001b[0mcommand_executor\u001b[0m\u001b[0;34m.\u001b[0m\u001b[0mexecute\u001b[0m\u001b[0;34m(\u001b[0m\u001b[0mdriver_command\u001b[0m\u001b[0;34m,\u001b[0m \u001b[0mparams\u001b[0m\u001b[0;34m)\u001b[0m\u001b[0;34m\u001b[0m\u001b[0;34m\u001b[0m\u001b[0m\n\u001b[1;32m    417\u001b[0m         \u001b[0;32mif\u001b[0m \u001b[0mresponse\u001b[0m\u001b[0;34m:\u001b[0m\u001b[0;34m\u001b[0m\u001b[0;34m\u001b[0m\u001b[0m\n\u001b[0;32m--> 418\u001b[0;31m             \u001b[0mself\u001b[0m\u001b[0;34m.\u001b[0m\u001b[0merror_handler\u001b[0m\u001b[0;34m.\u001b[0m\u001b[0mcheck_response\u001b[0m\u001b[0;34m(\u001b[0m\u001b[0mresponse\u001b[0m\u001b[0;34m)\u001b[0m\u001b[0;34m\u001b[0m\u001b[0;34m\u001b[0m\u001b[0m\n\u001b[0m\u001b[1;32m    419\u001b[0m             response['value'] = self._unwrap_value(\n\u001b[1;32m    420\u001b[0m                 response.get('value', None))\n",
      "\u001b[0;32m~/opt/anaconda3/lib/python3.8/site-packages/selenium/webdriver/remote/errorhandler.py\u001b[0m in \u001b[0;36mcheck_response\u001b[0;34m(self, response)\u001b[0m\n\u001b[1;32m    241\u001b[0m                 \u001b[0malert_text\u001b[0m \u001b[0;34m=\u001b[0m \u001b[0mvalue\u001b[0m\u001b[0;34m[\u001b[0m\u001b[0;34m'alert'\u001b[0m\u001b[0;34m]\u001b[0m\u001b[0;34m.\u001b[0m\u001b[0mget\u001b[0m\u001b[0;34m(\u001b[0m\u001b[0;34m'text'\u001b[0m\u001b[0;34m)\u001b[0m\u001b[0;34m\u001b[0m\u001b[0;34m\u001b[0m\u001b[0m\n\u001b[1;32m    242\u001b[0m             \u001b[0;32mraise\u001b[0m \u001b[0mexception_class\u001b[0m\u001b[0;34m(\u001b[0m\u001b[0mmessage\u001b[0m\u001b[0;34m,\u001b[0m \u001b[0mscreen\u001b[0m\u001b[0;34m,\u001b[0m \u001b[0mstacktrace\u001b[0m\u001b[0;34m,\u001b[0m \u001b[0malert_text\u001b[0m\u001b[0;34m)\u001b[0m  \u001b[0;31m# type: ignore[call-arg]  # mypy is not smart enough here\u001b[0m\u001b[0;34m\u001b[0m\u001b[0;34m\u001b[0m\u001b[0m\n\u001b[0;32m--> 243\u001b[0;31m         \u001b[0;32mraise\u001b[0m \u001b[0mexception_class\u001b[0m\u001b[0;34m(\u001b[0m\u001b[0mmessage\u001b[0m\u001b[0;34m,\u001b[0m \u001b[0mscreen\u001b[0m\u001b[0;34m,\u001b[0m \u001b[0mstacktrace\u001b[0m\u001b[0;34m)\u001b[0m\u001b[0;34m\u001b[0m\u001b[0;34m\u001b[0m\u001b[0m\n\u001b[0m\u001b[1;32m    244\u001b[0m \u001b[0;34m\u001b[0m\u001b[0m\n\u001b[1;32m    245\u001b[0m     \u001b[0;32mdef\u001b[0m \u001b[0m_value_or_default\u001b[0m\u001b[0;34m(\u001b[0m\u001b[0mself\u001b[0m\u001b[0;34m,\u001b[0m \u001b[0mobj\u001b[0m\u001b[0;34m:\u001b[0m \u001b[0mMapping\u001b[0m\u001b[0;34m[\u001b[0m\u001b[0m_KT\u001b[0m\u001b[0;34m,\u001b[0m \u001b[0m_VT\u001b[0m\u001b[0;34m]\u001b[0m\u001b[0;34m,\u001b[0m \u001b[0mkey\u001b[0m\u001b[0;34m:\u001b[0m \u001b[0m_KT\u001b[0m\u001b[0;34m,\u001b[0m \u001b[0mdefault\u001b[0m\u001b[0;34m:\u001b[0m \u001b[0m_VT\u001b[0m\u001b[0;34m)\u001b[0m \u001b[0;34m->\u001b[0m \u001b[0m_VT\u001b[0m\u001b[0;34m:\u001b[0m\u001b[0;34m\u001b[0m\u001b[0;34m\u001b[0m\u001b[0m\n",
      "\u001b[0;31mNoSuchElementException\u001b[0m: Message: no such element: Unable to locate element: {\"method\":\"xpath\",\"selector\":\"/html/body/div[10]/div[3]/div/div[1]/div/div[2]/div/button[2]\"}\n  (Session info: chrome=95.0.4638.69)\nStacktrace:\n0   chromedriver                        0x000000010c365519 __gxx_personality_v0 + 577193\n1   chromedriver                        0x000000010c2f1663 __gxx_personality_v0 + 102387\n2   chromedriver                        0x000000010beb8d28 chromedriver + 171304\n3   chromedriver                        0x000000010beedc9c chromedriver + 388252\n4   chromedriver                        0x000000010bf1fb04 chromedriver + 592644\n5   chromedriver                        0x000000010bf0addd chromedriver + 507357\n6   chromedriver                        0x000000010bf1d8ab chromedriver + 583851\n7   chromedriver                        0x000000010bf0b0a3 chromedriver + 508067\n8   chromedriver                        0x000000010bee15ae chromedriver + 337326\n9   chromedriver                        0x000000010bee28d5 chromedriver + 342229\n10  chromedriver                        0x000000010c32175f __gxx_personality_v0 + 299247\n11  chromedriver                        0x000000010c33869a __gxx_personality_v0 + 393258\n12  chromedriver                        0x000000010c33df5b __gxx_personality_v0 + 415979\n13  chromedriver                        0x000000010c339a3a __gxx_personality_v0 + 398282\n14  chromedriver                        0x000000010c31637c __gxx_personality_v0 + 253196\n15  chromedriver                        0x000000010c355458 __gxx_personality_v0 + 511464\n16  chromedriver                        0x000000010c3555e1 __gxx_personality_v0 + 511857\n17  chromedriver                        0x000000010c36c968 __gxx_personality_v0 + 606968\n18  libsystem_pthread.dylib             0x00007fff204c38fc _pthread_start + 224\n19  libsystem_pthread.dylib             0x00007fff204bf443 thread_start + 15\n"
     ]
    }
   ],
   "source": [
    "precios = []\n",
    "for i in lista_url:\n",
    "    print(i)\n",
    "    for x in range(1,5):\n",
    "        print(x)\n",
    "        driver.get(i)\n",
    "        driver.implicitly_wait(5)\n",
    "        driver.find_element_by_xpath(\"/html/body/div[10]/div[3]/div/div[1]/div/div[2]/div/button[2]\").click()\n",
    "\n",
    "        try:\n",
    "            driver.implicitly_wait(2)\n",
    "            info = driver.find_element_by_xpath(f'/html/body/div[3]/div/div[6]/div/div[{x}]/article/form/div[3]/div/div/div/div[1]/strong')\n",
    "            precios.append(info.text)\n",
    "        except:\n",
    "            info = driver.find_element_by_xpath(f'/html/body/div[3]/div/div[6]/div/div[{x}]/article/form/div[3]/div/div/div/div[1]/strong')\n",
    "            precios.append(info.text)\n",
    "        else: \n",
    "            precios.append(driver.find_element_by_xpath(f'html/body/div[3]/div/div[6]/div/div[{x}]/article/form/div[3]/div/div/div/div/a').text)\n",
    "driver.quit()"
   ]
  },
  {
   "cell_type": "code",
   "execution_count": null,
   "id": "35e24be4",
   "metadata": {},
   "outputs": [],
   "source": [
    "print(precios)"
   ]
  },
  {
   "cell_type": "code",
   "execution_count": null,
   "id": "df277596",
   "metadata": {},
   "outputs": [],
   "source": [
    "#https://www.fnac.es/SearchResult/ResultList.aspx?PageIndex=2&Search=monitores&sft=1&sl"
   ]
  },
  {
   "cell_type": "code",
   "execution_count": null,
   "id": "501a8e1c",
   "metadata": {},
   "outputs": [],
   "source": [
    "/html/body/div[10]/div[3]/div/div[1]/div/div[2]/div/button[2]\n"
   ]
  }
 ],
 "metadata": {
  "kernelspec": {
   "display_name": "Python 3",
   "language": "python",
   "name": "python3"
  },
  "language_info": {
   "codemirror_mode": {
    "name": "ipython",
    "version": 3
   },
   "file_extension": ".py",
   "mimetype": "text/x-python",
   "name": "python",
   "nbconvert_exporter": "python",
   "pygments_lexer": "ipython3",
   "version": "3.8.8"
  }
 },
 "nbformat": 4,
 "nbformat_minor": 5
}
