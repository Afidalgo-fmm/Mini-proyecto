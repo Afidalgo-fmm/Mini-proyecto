{
 "cells": [
  {
   "cell_type": "code",
   "execution_count": 1,
   "id": "5483e5c0",
   "metadata": {},
   "outputs": [],
   "source": [
    "from selenium import webdriver\n",
    "from selenium.webdriver.chrome.options import Options\n",
    "import time\n",
    "import pandas as pd\n",
    "from selenium.webdriver.support.ui import Select\n",
    "from webdriver_manager.chrome import ChromeDriverManager"
   ]
  },
  {
   "cell_type": "code",
   "execution_count": 2,
   "id": "8ce340de",
   "metadata": {},
   "outputs": [],
   "source": [
    "opciones=Options()\n",
    "opciones.add_experimental_option('excludeSwitches', ['enable-automation'])\n",
    "opciones.add_experimental_option('useAutomationExtension', False)\n",
    "opciones.headless=False    \n",
    "opciones.add_argument('--start-maximized')        \n",
    "opciones.add_argument('user-data-dir=selenium')   \n",
    "opciones.add_argument('--incognito')              "
   ]
  },
  {
   "cell_type": "code",
   "execution_count": 3,
   "id": "d1d7111e",
   "metadata": {},
   "outputs": [
    {
     "ename": "SyntaxError",
     "evalue": "invalid syntax (<ipython-input-3-e320510fcafd>, line 12)",
     "output_type": "error",
     "traceback": [
      "\u001b[0;36m  File \u001b[0;32m\"<ipython-input-3-e320510fcafd>\"\u001b[0;36m, line \u001b[0;32m12\u001b[0m\n\u001b[0;31m    else:\u001b[0m\n\u001b[0m    ^\u001b[0m\n\u001b[0;31mSyntaxError\u001b[0m\u001b[0;31m:\u001b[0m invalid syntax\n"
     ]
    }
   ],
   "source": [
    "driver = webdriver.Chrome(ChromeDriverManager().install(), options = opciones)\n",
    "driver.get(\"https://www.nike.com/es/w/hombre-zapatillas-nik1zy7ok\")\n",
    "driver.implicitly_wait(3)\n",
    "driver.find_element_by_xpath(\"/html/body/div[1]/div[1]/div[2]/div[1]/div/div[2]/div/div[2]/div[2]/button\").click()\n",
    "\n",
    "precios = []\n",
    "for i in range(1,500):\n",
    "    driver.implicitly_wait(2)\n",
    "    try:\n",
    "        precios.append(driver.find_element_by_css_selector(f'#Wall > div > div.results__body > div.product-grid.css-195fkdt > main > section > div > div:nth-child({i}) > div > figure > div > div.product-card__animation_wrapper > div > div > div > div').text)\n",
    "        print(i)\n",
    "    except:\n",
    "        print(f\"no sale {i}\")\n",
    "        \n",
    "driver.quit()"
   ]
  },
  {
   "cell_type": "code",
   "execution_count": null,
   "id": "5f7bf649",
   "metadata": {},
   "outputs": [],
   "source": [
    "print(len(precios))"
   ]
  },
  {
   "cell_type": "code",
   "execution_count": null,
   "id": "08be1858",
   "metadata": {},
   "outputs": [],
   "source": [
    "#Wall > div > div.results__body > div.product-grid.css-195fkdt > main > section > div > div:nth-child(1) > div > figure > div > div.product-card__animation_wrapper > div > div > div > div\n",
    "#Wall > div > div.results__body > div.product-grid.css-195fkdt > main > section > div > div:nth-child(2) > div > figure > div > div.product-card__animation_wrapper > div > div > div > div\n",
    "#Wall > div > div.results__body > div.product-grid.css-195fkdt > main > section > div > div:nth-child(3) > div > figure > div > div.product-card__animation_wrapper > div > div > div > div\n",
    "#Wall > div > div.results__body > div.product-grid.css-195fkdt > main > section > div > div:nth-child(4) > div > figure > div > div.product-card__animation_wrapper > div > div > div > div\n",
    "#Wall > div > div.results__body > div.product-grid.css-195fkdt > main > section > div > div:nth-child(46) > div > figure > div > div.product-card__animation_wrapper > div > div > div > div\n",
    "#Wall > div > div.results__body > div.product-grid.css-195fkdt > main > section > div > div:nth-child(128) > div > figure > div > div.product-card__animation_wrapper > div > div > div > div\n",
    "\n",
    "\n",
    "\n",
    "\n",
    "\n"
   ]
  }
 ],
 "metadata": {
  "kernelspec": {
   "display_name": "Python 3",
   "language": "python",
   "name": "python3"
  },
  "language_info": {
   "codemirror_mode": {
    "name": "ipython",
    "version": 3
   },
   "file_extension": ".py",
   "mimetype": "text/x-python",
   "name": "python",
   "nbconvert_exporter": "python",
   "pygments_lexer": "ipython3",
   "version": "3.8.8"
  }
 },
 "nbformat": 4,
 "nbformat_minor": 5
}
